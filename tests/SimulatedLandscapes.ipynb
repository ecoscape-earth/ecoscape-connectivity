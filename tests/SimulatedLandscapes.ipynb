{
  "cells": [
    {
      "cell_type": "markdown",
      "metadata": {
        "id": "vWt-Aeo4eepP"
      },
      "source": [
        "# Simulated landscapes\n",
        "\n",
        "This notebook runs faster on GPU; you can upload it to Google Colab and run it there, if you do not have a GPU on your local machine."
      ]
    },
    {
      "cell_type": "code",
      "execution_count": 1,
      "metadata": {
        "id": "BhodJoQSqWHf"
      },
      "outputs": [],
      "source": [
        "import numpy as np\n",
        "import torch\n",
        "import matplotlib.pyplot as plt\n",
        "import sys"
      ]
    },
    {
      "cell_type": "code",
      "execution_count": 2,
      "metadata": {},
      "outputs": [],
      "source": [
        "device = (torch.device('cuda') if torch.cuda.is_available() else \n",
        "          torch.device('mps') if torch.backends.mps.is_available() else\n",
        "          torch.device('cpu'))\n"
      ]
    },
    {
      "cell_type": "code",
      "execution_count": 3,
      "metadata": {},
      "outputs": [],
      "source": [
        "sys.path.insert(0, '..')\n",
        "sys.path.insert(0, '../..')\n",
        "import ecoscape_connectivity\n"
      ]
    },
    {
      "cell_type": "code",
      "execution_count": 4,
      "metadata": {
        "colab": {
          "base_uri": "https://localhost:8080/"
        },
        "id": "Z18_f6LWywPo",
        "outputId": "7801d0d0-f7ed-4c6f-dc8c-52a11edc72fb"
      },
      "outputs": [
        {
          "name": "stdout",
          "output_type": "stream",
          "text": [
            "Device: mps\n"
          ]
        }
      ],
      "source": [
        "if torch.cuda.is_available():\n",
        "    device = 'cuda'\n",
        "elif torch.backends.mps.is_available():\n",
        "    device = torch.device(\"mps\")\n",
        "else:\n",
        "    device = 'cpu'\n",
        "print(\"Device:\", device)"
      ]
    },
    {
      "cell_type": "markdown",
      "metadata": {
        "id": "UCiNVNAZIhMM"
      },
      "source": [
        "## Test habitats and terrains"
      ]
    },
    {
      "cell_type": "code",
      "execution_count": 5,
      "metadata": {
        "id": "H1pXaES-svA7"
      },
      "outputs": [],
      "source": [
        "def simulate(hab, ter,\n",
        "             seed_density=4.0, batch_size=5, dispersal=25, \n",
        "             num_simulations=400, gap_crossing=0):\n",
        "    \"\"\"\n",
        "    Function that makes simulating and displaying repopulation easier.\n",
        "    \"\"\"\n",
        "\n",
        "    # analyze_tile expects the habitat to be of shape (1, w, h)\n",
        "    if np.ndim(hab) == 2:\n",
        "        hab = np.expand_dims(hab, axis=0)\n",
        "\n",
        "    repopulate = ecoscape_connectivity.analyze_tile_torch(\n",
        "        device=device,\n",
        "        seed_density=seed_density,\n",
        "        produce_gradient=True,\n",
        "        batch_size=batch_size,\n",
        "        dispersal=dispersal,\n",
        "        num_simulations=num_simulations,\n",
        "        gap_crossing=gap_crossing)\n",
        "\n",
        "    repop, grad = repopulate(hab, ter)\n",
        "\n",
        "    # a bit of reshaping for displaying with matplotlib\n",
        "    hab = np.sum(hab, 0)\n",
        "    repop = np.sum(repop.detach().cpu().numpy(), 0)\n",
        "    grad = np.log10(1 + np.sum(grad.detach().cpu().numpy(), 0))\n",
        "\n",
        "    return repop, grad"
      ]
    },
    {
      "cell_type": "code",
      "execution_count": 6,
      "metadata": {
        "id": "MjHDkpIWoW8o"
      },
      "outputs": [],
      "source": [
        "def draw_circle(hab, y, x, r):\n",
        "    return np.maximum(hab, (X - x) ** 2 + (Y - y) ** 2 < r ** 2)"
      ]
    },
    {
      "cell_type": "code",
      "execution_count": 7,
      "metadata": {
        "id": "xvZJh6GorfKb"
      },
      "outputs": [],
      "source": [
        "from matplotlib.colors import LinearSegmentedColormap\n",
        "import matplotlib.cm as cm"
      ]
    },
    {
      "cell_type": "code",
      "execution_count": 8,
      "metadata": {
        "colab": {
          "base_uri": "https://localhost:8080/"
        },
        "id": "E7GH4r57s8ZX",
        "outputId": "ee055915-fe83-4b60-c374-36bc6f5bff5c"
      },
      "outputs": [
        {
          "data": {
            "text/plain": [
              "array([0.988362, 0.998364, 0.644924, 1.      ])"
            ]
          },
          "execution_count": 8,
          "metadata": {},
          "output_type": "execute_result"
        }
      ],
      "source": [
        "import matplotlib.cm as cm\n",
        "\n",
        "inferno = cm.inferno(np.linspace(0, 1, 256))\n",
        "last_color = inferno[-1]\n",
        "last_color"
      ]
    },
    {
      "cell_type": "code",
      "execution_count": 9,
      "metadata": {
        "colab": {
          "base_uri": "https://localhost:8080/",
          "height": 452
        },
        "id": "iVgX1pOHZwFj",
        "outputId": "ff5df2ba-e2ac-41b2-d7ae-05fb29af7878"
      },
      "outputs": [
        {
          "data": {
            "image/png": "[encoded data removed]",
            "text/plain": [
              "<Figure size 640x480 with 2 Axes>"
            ]
          },
          "metadata": {},
          "output_type": "display_data"
        }
      ],
      "source": [
        "# habitat for testing resistance vs dispersal distance\n",
        "Xdim = 40\n",
        "Ydim = 60\n",
        "\n",
        "Y, X = np.meshgrid(range(0, Xdim), range(0, Ydim))\n",
        "\n",
        "hab = np.zeros((Ydim, Xdim))\n",
        "hab = draw_circle(hab, 31, 50, 2.5) # c1\n",
        "hab = draw_circle(hab, 31, 27, 5.5) # c2\n",
        "hab = draw_circle(hab, 31, 8, 2.5) # c3\n",
        "hab = draw_circle(hab, 8, 8, 2.5) # c4\n",
        "hab = draw_circle(hab, 8, 27, 5.5) # c5\n",
        "hab = draw_circle(hab, 8, 50, 5.5) # c6\n",
        "\n",
        "plt.imshow(hab, cmap='inferno')\n",
        "plt.colorbar()\n",
        "plt.title('Habitat')\n",
        "plt.show()"
      ]
    },
    {
      "cell_type": "code",
      "execution_count": 10,
      "metadata": {
        "id": "9UUtvSWNhLek"
      },
      "outputs": [],
      "source": [
        "cdict = {\n",
        "    'red': (\n",
        "        (0.0,  0.0, 0.0),\n",
        "        (0.95,  0.0, 0.0),\n",
        "        (1.0, 0.4, 0.4),\n",
        "    ),\n",
        "    'green': (\n",
        "        (0.0,  0.0, 0.0),\n",
        "        (0.95,  0.3, 0.3),\n",
        "        (1.0, 1, 1),\n",
        "    ),\n",
        "    'blue': (\n",
        "        (0.0,  0.0, 0.0),\n",
        "        (0.95,  0.0, 0.0),\n",
        "        (1.0,  0.4, 0.4),\n",
        "    )\n",
        "}\n",
        "habitat_cmap = LinearSegmentedColormap('habitat_cmap', cdict)"
      ]
    },
    {
      "cell_type": "code",
      "execution_count": 11,
      "metadata": {
        "id": "GxLycsC9iThp"
      },
      "outputs": [],
      "source": [
        "cdict = {\n",
        "    'red': (\n",
        "        (0.0,  0.0, 0.0),\n",
        "        (0.95,  0, 0),\n",
        "        (1.0, 0.5, 0.5),\n",
        "    ),\n",
        "    'green': (\n",
        "        (0.0,  0.0, 0.0),\n",
        "        (0.95,  0.3, 0.3),\n",
        "        (1.0, 1.0, 1.0),\n",
        "    ),\n",
        "    'blue': (\n",
        "        (0.0,  0.0, 0.0),\n",
        "        (0.95,  0, 0),\n",
        "        (1.0,  0.5, 0.5),\n",
        "    )\n",
        "}\n",
        "habitat_cmap = LinearSegmentedColormap('habitat_cmap', cdict)"
      ]
    },
    {
      "cell_type": "code",
      "execution_count": 12,
      "metadata": {
        "colab": {
          "base_uri": "https://localhost:8080/",
          "height": 487
        },
        "id": "mq4QONp7viXZ",
        "outputId": "5a923972-9634-4e7e-8184-2bc6c9800dcf"
      },
      "outputs": [
        {
          "data": {
            "image/png": "[encoded data removed]",
            "text/plain": [
              "<Figure size 640x480 with 1 Axes>"
            ]
          },
          "metadata": {},
          "output_type": "display_data"
        }
      ],
      "source": [
        "corridor = 0.98\n",
        "ter = np.zeros_like(hab)\n",
        "ter[6:10, 6:36] = corridor\n",
        "ter[6:30, 15:37] = corridor\n",
        "ter[22:33, 6:32] = corridor\n",
        "\n",
        "total = np.maximum(hab, ter)\n",
        "plt.imshow(total, cmap=habitat_cmap)\n",
        "# plt.title('Habitat and terrain')\n",
        "# Remove x tiks from the plot\n",
        "plt.xticks([])\n",
        "plt.yticks([])\n",
        "plt.tight_layout()\n",
        "plt.savefig(\"artificial_landscape.pdf\", bbox_inches=\"tight\", format=\"pdf\")"
      ]
    },
    {
      "cell_type": "code",
      "execution_count": 24,
      "metadata": {
        "colab": {
          "base_uri": "https://localhost:8080/",
          "height": 957
        },
        "id": "c0NbfukUsy1X",
        "outputId": "7a4a06da-b6bf-414d-a244-0a03230bc82f"
      },
      "outputs": [
        {
          "data": {
            "image/png": "[encoded data removed]",
            "text/plain": [
              "<Figure size 640x480 with 2 Axes>"
            ]
          },
          "metadata": {},
          "output_type": "display_data"
        },
        {
          "data": {
            "image/png": "[encoded data removed]",
            "text/plain": [
              "<Figure size 640x480 with 2 Axes>"
            ]
          },
          "metadata": {},
          "output_type": "display_data"
        }
      ],
      "source": [
        "repop, grad = simulate(hab, ter,\n",
        "             seed_density=400.0, batch_size=200, dispersal=100, \n",
        "             num_simulations=1000, gap_crossing=0)\n",
        "plt.imshow(repop, cmap='inferno')\n",
        "plt.colorbar(shrink=0.5)\n",
        "# plt.title(\"Repopulation\")\n",
        "plt.xticks([])\n",
        "plt.yticks([])\n",
        "plt.tight_layout()\n",
        "plt.savefig(\"connectivity.pdf\", bbox_inches=\"tight\", format=\"pdf\")\n",
        "plt.show()\n",
        "plt.imshow(grad, cmap='inferno')\n",
        "plt.colorbar(shrink=0.5)\n",
        "# plt.title(\"Flow\")\n",
        "plt.xticks([])\n",
        "plt.yticks([])\n",
        "plt.tight_layout()\n",
        "plt.savefig(\"flow.pdf\", bbox_inches=\"tight\", format=\"pdf\")\n",
        "plt.show()"
      ]
    },
    {
      "cell_type": "code",
      "execution_count": null,
      "metadata": {
        "id": "-hHZ177Hd8uW"
      },
      "outputs": [],
      "source": []
    },
    {
      "cell_type": "code",
      "execution_count": null,
      "metadata": {},
      "outputs": [],
      "source": []
    }
  ],
  "metadata": {
    "accelerator": "GPU",
    "colab": {
      "collapsed_sections": [
        "vWt-Aeo4eepP",
        "zbSMNIUa5jIC",
        "3a1GsIRw5qVT",
        "D7F3AuGp5tBe"
      ],
      "gpuType": "T4",
      "machine_shape": "hm",
      "provenance": []
    },
    "kernelspec": {
      "display_name": "Python 3",
      "name": "python3"
    },
    "language_info": {
      "codemirror_mode": {
        "name": "ipython",
        "version": 3
      },
      "file_extension": ".py",
      "mimetype": "text/x-python",
      "name": "python",
      "nbconvert_exporter": "python",
      "pygments_lexer": "ipython3",
      "version": "3.12.4"
    }
  },
  "nbformat": 4,
  "nbformat_minor": 0
}
